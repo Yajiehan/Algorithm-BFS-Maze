{
  "nbformat": 4,
  "nbformat_minor": 0,
  "metadata": {
    "colab": {
      "provenance": [],
      "authorship_tag": "ABX9TyPVmgKy15QKL6hjWdegpx/1",
      "include_colab_link": true
    },
    "kernelspec": {
      "name": "python3",
      "display_name": "Python 3"
    },
    "language_info": {
      "name": "python"
    }
  },
  "cells": [
    {
      "cell_type": "markdown",
      "metadata": {
        "id": "view-in-github",
        "colab_type": "text"
      },
      "source": [
        "<a href=\"https://colab.research.google.com/github/Yajiehan/Algorithm-BFS-Maze/blob/main/BFS_Maze.ipynb\" target=\"_parent\"><img src=\"https://colab.research.google.com/assets/colab-badge.svg\" alt=\"Open In Colab\"/></a>"
      ]
    },
    {
      "cell_type": "code",
      "execution_count": null,
      "metadata": {
        "colab": {
          "base_uri": "https://localhost:8080/"
        },
        "id": "CCg1IS96YWd6",
        "outputId": "e439a66b-6e13-4941-f263-beaa6e894af1"
      },
      "outputs": [
        {
          "output_type": "stream",
          "name": "stdout",
          "text": [
            "True\n",
            "False\n",
            "False\n"
          ]
        }
      ],
      "source": [
        "from collections import deque\n",
        "\n",
        "def hasPath(maze, start, destination):\n",
        "    rows, cols = len(maze), len(maze[0])\n",
        "    directions = [(0, 1), (0, -1), (1, 0), (-1, 0)]\n",
        "    queue = deque([(start[0], start[1], [])])  # Each queue element contains (row, col, path)\n",
        "    visited = set()\n",
        "\n",
        "    while queue:\n",
        "        row, col, path = queue.popleft()\n",
        "\n",
        "        if (row, col) == (destination[0], destination[1]):\n",
        "            return True\n",
        "\n",
        "        if (row, col) in visited:\n",
        "            continue\n",
        "        visited.add((row, col))\n",
        "\n",
        "        for dr, dc in directions:\n",
        "            new_row, new_col = row + dr, col + dc\n",
        "\n",
        "            while 0 <= new_row < rows and 0 <= new_col < cols and maze[new_row][new_col] == 0:\n",
        "                new_row += dr\n",
        "                new_col += dc\n",
        "\n",
        "            new_row -= dr\n",
        "            new_col -= dc\n",
        "\n",
        "            if (new_row, new_col) not in visited:\n",
        "                queue.append((new_row, new_col, path + [(row, col)]))\n",
        "\n",
        "    return False\n",
        "\n",
        "# Example maze represented as a 2D grid (0: passage, 1: wall)\n",
        "maze = [\n",
        "    [0, 0, 1, 0, 0],\n",
        "    [0, 0, 0, 0, 0],\n",
        "    [0, 0, 0, 1, 0],\n",
        "    [1, 1, 0, 1, 1],\n",
        "    [0, 0, 0, 0, 0]\n",
        "]\n",
        "\n",
        "start = (0, 4)\n",
        "destination = (4, 4)\n",
        "\n",
        "print(hasPath(maze, start, destination))  # Output: True\n",
        "\n",
        "maze = [\n",
        "    [0, 0, 1, 0, 0],\n",
        "    [0, 0, 0, 0, 0],\n",
        "    [0, 0, 0, 1, 0 ],\n",
        "    [1, 1, 0, 1, 1],\n",
        "    [0, 0, 0, 0, 0]\n",
        "]\n",
        "\n",
        "start = (0, 4)\n",
        "destination = (3, 2)\n",
        "\n",
        "print(hasPath(maze, start, destination))  # Output: False\n",
        "\n",
        "maze = [\n",
        "    [0, 0, 0, 0, 0],\n",
        "    [1, 1, 0, 0, 1],\n",
        "    [0, 0, 0, 0, 0],\n",
        "    [0, 1, 0, 0, 1],\n",
        "    [0, 1, 0, 0, 0]\n",
        "]\n",
        "\n",
        "start = (4, 3)\n",
        "destination = (0, 1)\n",
        "\n",
        "print(hasPath(maze, start, destination))  # Output: False\n"
      ]
    }
  ]
}